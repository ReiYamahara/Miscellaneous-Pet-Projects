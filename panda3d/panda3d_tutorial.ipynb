{
 "cells": [
  {
   "cell_type": "markdown",
   "metadata": {},
   "source": [
    "# Panda 3d tutorial:\n",
    "\n",
    "Here we made our main class inherit from ShowBase. This class loads most of the other Panda3D modules, and causes the 3D window to appear. The run() method contains the Panda3D main loop. It renders a frame, handles the background tasks, and then repeats. It does not normally return, so it needs to be called only once and must be the last line in your script. In this particular example, there will be nothing to render, so you should expect a window containing an empty grey area."
   ]
  },
  {
   "cell_type": "code",
   "execution_count": 1,
   "metadata": {},
   "outputs": [
    {
     "name": "stderr",
     "output_type": "stream",
     "text": [
      "Known pipe types:\n",
      "  CocoaGraphicsPipe\n",
      "(all display modules loaded.)\n"
     ]
    },
    {
     "ename": "SystemExit",
     "evalue": "",
     "output_type": "error",
     "traceback": [
      "An exception has occurred, use %tb to see the full traceback.\n",
      "\u001b[0;31mSystemExit\u001b[0m\n"
     ]
    },
    {
     "name": "stderr",
     "output_type": "stream",
     "text": [
      "/Users/reiyamahara/.venvs/adrinet_venv/lib/python3.8/site-packages/IPython/core/interactiveshell.py:3465: UserWarning: To exit: use 'exit', 'quit', or Ctrl-D.\n",
      "  warn(\"To exit: use 'exit', 'quit', or Ctrl-D.\", stacklevel=1)\n"
     ]
    }
   ],
   "source": [
    "from direct.showbase.ShowBase import ShowBase\n",
    "\n",
    "\n",
    "class MyApp(ShowBase):\n",
    "\n",
    "    def __init__(self):\n",
    "        ShowBase.__init__(self)\n",
    "\n",
    "\n",
    "app = MyApp()\n",
    "app.run()"
   ]
  },
  {
   "cell_type": "markdown",
   "metadata": {},
   "source": [
    "## Intro 1:\n",
    "\n",
    "Panda3D contains a data structure called the Scene Graph. The Scene Graph is a tree containing all objects that need to be rendered. At the root of the tree is an object named render. Nothing is rendered until it is first inserted into the Scene Graph.\n",
    "\n",
    "To install the grassy scenery model into the Scene Graph, we use the method reparentTo(). This sets the parent of the model, thereby giving it a place in the Scene Graph. Doing so makes the model visible in the scene.\n",
    "\n",
    "Finally, we adjust the position and scale of the model. In this particular case, the environment model is a little too large and somewhat offset for our purposes. The setScale() and setPos() procedures rescale and center the model.\n",
    "\n",
    "Panda3D uses the “geographical” coordinate system where position (-8, 42, 0) means map coordinates (8, 42) and height 0. If you are used to OpenGL/Direct3D coordinates, then hold up your right hand in the classical position with thumb as X, fingers as Y, and palm as Z facing toward you; then tilt backward until your hand is level with the fingers pointing away and palm facing up. Moving “forward” in Panda3D is a positive change in Y coordinate.\n",
    "\n",
    "The ShowBase procedure loader.loadModel() loads the specified file, in this case the environment.egg file in the models folder. The return value is an object of the NodePath class, effectively a pointer to the model. Note that Panda Filename Syntax uses the forward-slash, even under Windows."
   ]
  },
  {
   "cell_type": "code",
   "execution_count": 1,
   "metadata": {},
   "outputs": [
    {
     "name": "stderr",
     "output_type": "stream",
     "text": [
      "Known pipe types:\n",
      "  CocoaGraphicsPipe\n",
      "(all display modules loaded.)\n"
     ]
    },
    {
     "ename": "SystemExit",
     "evalue": "",
     "output_type": "error",
     "traceback": [
      "An exception has occurred, use %tb to see the full traceback.\n",
      "\u001b[0;31mSystemExit\u001b[0m\n"
     ]
    },
    {
     "name": "stderr",
     "output_type": "stream",
     "text": [
      "/Users/reiyamahara/.venvs/adrinet_venv/lib/python3.8/site-packages/IPython/core/interactiveshell.py:3465: UserWarning: To exit: use 'exit', 'quit', or Ctrl-D.\n",
      "  warn(\"To exit: use 'exit', 'quit', or Ctrl-D.\", stacklevel=1)\n"
     ]
    }
   ],
   "source": [
    "from direct.showbase.ShowBase import ShowBase\n",
    "\n",
    "\n",
    "class MyApp(ShowBase):\n",
    "\n",
    "    def __init__(self):\n",
    "        ShowBase.__init__(self)\n",
    "\n",
    "        # Load the environment model.\n",
    "        self.scene = self.loader.loadModel(\"models/environment\")\n",
    "        # Reparent the model to render.\n",
    "        self.scene.reparentTo(self.render)\n",
    "        # Apply scale and position transforms on the model.\n",
    "        self.scene.setScale(0.25, 0.25, 0.25)\n",
    "        self.scene.setPos(-8, 42, 0)\n",
    "\n",
    "\n",
    "app = MyApp()\n",
    "app.run()"
   ]
  },
  {
   "cell_type": "code",
   "execution_count": null,
   "metadata": {},
   "outputs": [],
   "source": []
  }
 ],
 "metadata": {
  "interpreter": {
   "hash": "0a3070bd3d6df94e4649393c47f71d2c2435cd121429b9c24bbd9659379d2458"
  },
  "kernelspec": {
   "display_name": "Python 3.8.12 64-bit ('adrinet_venv': venv)",
   "name": "python3"
  },
  "language_info": {
   "codemirror_mode": {
    "name": "ipython",
    "version": 3
   },
   "file_extension": ".py",
   "mimetype": "text/x-python",
   "name": "python",
   "nbconvert_exporter": "python",
   "pygments_lexer": "ipython3",
   "version": "3.8.12"
  },
  "orig_nbformat": 4
 },
 "nbformat": 4,
 "nbformat_minor": 2
}
